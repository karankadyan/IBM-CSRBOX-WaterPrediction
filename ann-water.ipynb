{
 "metadata": {
  "kernelspec": {
   "language": "python",
   "display_name": "Python 3",
   "name": "python3"
  },
  "language_info": {
   "name": "python",
   "version": "3.10.13",
   "mimetype": "text/x-python",
   "codemirror_mode": {
    "name": "ipython",
    "version": 3
   },
   "pygments_lexer": "ipython3",
   "nbconvert_exporter": "python",
   "file_extension": ".py"
  },
  "kaggle": {
   "accelerator": "nvidiaTeslaT4",
   "dataSources": [
    {
     "sourceId": 2382730,
     "sourceType": "datasetVersion",
     "datasetId": 1438979
    }
   ],
   "dockerImageVersionId": 30747,
   "isInternetEnabled": true,
   "language": "python",
   "sourceType": "notebook",
   "isGpuEnabled": true
  }
 },
 "nbformat_minor": 4,
 "nbformat": 4,
 "cells": [
  {
   "cell_type": "markdown",
   "source": "# **ANN**",
   "metadata": {}
  },
  {
   "cell_type": "markdown",
   "source": "## **Importing Libraries**",
   "metadata": {}
  },
  {
   "cell_type": "code",
   "source": "import numpy as np\nimport matplotlib.pyplot as plt\nimport pandas as pd\nimport warnings\nwarnings.filterwarnings(\"ignore\")",
   "metadata": {
    "_uuid": "8f2839f25d086af736a60e9eeb907d3b93b6e0e5",
    "_cell_guid": "b1076dfc-b9ad-4769-8c92-a6c4dae69d19",
    "execution": {
     "iopub.status.busy": "2024-07-23T15:23:48.066028Z",
     "iopub.execute_input": "2024-07-23T15:23:48.066436Z",
     "iopub.status.idle": "2024-07-23T15:23:48.071880Z",
     "shell.execute_reply.started": "2024-07-23T15:23:48.066402Z",
     "shell.execute_reply": "2024-07-23T15:23:48.070862Z"
    },
    "trusted": true,
    "ExecuteTime": {
     "end_time": "2024-07-23T15:39:33.608316Z",
     "start_time": "2024-07-23T15:39:33.604504Z"
    }
   },
   "outputs": [],
   "execution_count": 9
  },
  {
   "cell_type": "markdown",
   "source": "## **Importing Dataset** ",
   "metadata": {}
  },
  {
   "cell_type": "code",
   "source": [
    "dataset = pd.read_csv('waterQuality1.csv')\n",
    "dataset = dataset.drop(index=[7551, 7568, 7890], errors='ignore')\n",
    "dataset['ammonia'] = dataset['ammonia'].astype(float)\n",
    "dataset['is_safe'] = dataset['is_safe'].astype(int)\n",
    "dataset.info()"
   ],
   "metadata": {
    "execution": {
     "iopub.status.busy": "2024-07-23T15:23:48.073687Z",
     "iopub.execute_input": "2024-07-23T15:23:48.073954Z",
     "iopub.status.idle": "2024-07-23T15:23:48.129390Z",
     "shell.execute_reply.started": "2024-07-23T15:23:48.073931Z",
     "shell.execute_reply": "2024-07-23T15:23:48.128425Z"
    },
    "trusted": true,
    "ExecuteTime": {
     "end_time": "2024-07-23T15:39:35.436306Z",
     "start_time": "2024-07-23T15:39:35.408491Z"
    }
   },
   "outputs": [
    {
     "name": "stdout",
     "output_type": "stream",
     "text": [
      "<class 'pandas.core.frame.DataFrame'>\n",
      "Index: 7996 entries, 0 to 7998\n",
      "Data columns (total 21 columns):\n",
      " #   Column       Non-Null Count  Dtype  \n",
      "---  ------       --------------  -----  \n",
      " 0   aluminium    7996 non-null   float64\n",
      " 1   ammonia      7996 non-null   float64\n",
      " 2   arsenic      7996 non-null   float64\n",
      " 3   barium       7996 non-null   float64\n",
      " 4   cadmium      7996 non-null   float64\n",
      " 5   chloramine   7996 non-null   float64\n",
      " 6   chromium     7996 non-null   float64\n",
      " 7   copper       7996 non-null   float64\n",
      " 8   flouride     7996 non-null   float64\n",
      " 9   bacteria     7996 non-null   float64\n",
      " 10  viruses      7996 non-null   float64\n",
      " 11  lead         7996 non-null   float64\n",
      " 12  nitrates     7996 non-null   float64\n",
      " 13  nitrites     7996 non-null   float64\n",
      " 14  mercury      7996 non-null   float64\n",
      " 15  perchlorate  7996 non-null   float64\n",
      " 16  radium       7996 non-null   float64\n",
      " 17  selenium     7996 non-null   float64\n",
      " 18  silver       7996 non-null   float64\n",
      " 19  uranium      7996 non-null   float64\n",
      " 20  is_safe      7996 non-null   int64  \n",
      "dtypes: float64(20), int64(1)\n",
      "memory usage: 1.3 MB\n"
     ]
    }
   ],
   "execution_count": 10
  },
  {
   "cell_type": "code",
   "source": "X = dataset.iloc[:, 0: -1].values\ny = dataset.iloc[:, -1].values\nX.shape",
   "metadata": {
    "execution": {
     "iopub.status.busy": "2024-07-23T15:23:48.130920Z",
     "iopub.execute_input": "2024-07-23T15:23:48.131479Z",
     "iopub.status.idle": "2024-07-23T15:23:48.140285Z",
     "shell.execute_reply.started": "2024-07-23T15:23:48.131450Z",
     "shell.execute_reply": "2024-07-23T15:23:48.139340Z"
    },
    "trusted": true,
    "ExecuteTime": {
     "end_time": "2024-07-23T15:39:36.329804Z",
     "start_time": "2024-07-23T15:39:36.323333Z"
    }
   },
   "outputs": [
    {
     "data": {
      "text/plain": [
       "(7996, 20)"
      ]
     },
     "execution_count": 11,
     "metadata": {},
     "output_type": "execute_result"
    }
   ],
   "execution_count": 11
  },
  {
   "cell_type": "markdown",
   "source": "## **Spliting Dataset** ",
   "metadata": {}
  },
  {
   "cell_type": "code",
   "source": "from sklearn.model_selection import train_test_split\nX_train, X_test, y_train, y_test = train_test_split(X, y, test_size = 0.2, random_state = 0)",
   "metadata": {
    "execution": {
     "iopub.status.busy": "2024-07-23T15:23:48.141819Z",
     "iopub.execute_input": "2024-07-23T15:23:48.142156Z",
     "iopub.status.idle": "2024-07-23T15:23:48.150057Z",
     "shell.execute_reply.started": "2024-07-23T15:23:48.142130Z",
     "shell.execute_reply": "2024-07-23T15:23:48.149041Z"
    },
    "trusted": true,
    "ExecuteTime": {
     "end_time": "2024-07-23T15:39:37.625113Z",
     "start_time": "2024-07-23T15:39:37.618254Z"
    }
   },
   "outputs": [],
   "execution_count": 12
  },
  {
   "cell_type": "markdown",
   "source": "## **Normalizing Data** ",
   "metadata": {}
  },
  {
   "cell_type": "code",
   "source": "from sklearn.preprocessing import StandardScaler\nsc = StandardScaler()\nX_train = sc.fit_transform(X_train)\nX_test = sc.transform(X_test)",
   "metadata": {
    "execution": {
     "iopub.status.busy": "2024-07-23T15:23:48.152746Z",
     "iopub.execute_input": "2024-07-23T15:23:48.153333Z",
     "iopub.status.idle": "2024-07-23T15:23:48.163483Z",
     "shell.execute_reply.started": "2024-07-23T15:23:48.153304Z",
     "shell.execute_reply": "2024-07-23T15:23:48.162497Z"
    },
    "trusted": true,
    "ExecuteTime": {
     "end_time": "2024-07-23T15:39:39.358605Z",
     "start_time": "2024-07-23T15:39:39.354001Z"
    }
   },
   "outputs": [],
   "execution_count": 13
  },
  {
   "cell_type": "markdown",
   "source": "## **Building the Model**",
   "metadata": {}
  },
  {
   "cell_type": "code",
   "source": "import keras\nfrom keras.models import Sequential\nfrom keras.layers import Dense\n\nclassifier = Sequential()\n\nclassifier.add(Dense(units=6, kernel_initializer = 'uniform', activation = 'relu', input_dim = 20))\n\nclassifier.add(Dense(5, kernel_initializer = 'uniform', activation = 'relu'))\n\nclassifier.add(Dense(7, kernel_initializer = 'uniform', activation = 'relu'))\n\nclassifier.add(Dense(1, kernel_initializer = 'uniform', activation = 'sigmoid'))",
   "metadata": {
    "scrolled": true,
    "execution": {
     "iopub.status.busy": "2024-07-23T15:23:48.164844Z",
     "iopub.execute_input": "2024-07-23T15:23:48.165232Z",
     "iopub.status.idle": "2024-07-23T15:23:48.216041Z",
     "shell.execute_reply.started": "2024-07-23T15:23:48.165199Z",
     "shell.execute_reply": "2024-07-23T15:23:48.215161Z"
    },
    "trusted": true
   },
   "execution_count": 20,
   "outputs": []
  },
  {
   "cell_type": "markdown",
   "source": "## **Training of the ANN**",
   "metadata": {}
  },
  {
   "cell_type": "code",
   "source": "classifier.compile(optimizer = 'adam', loss = 'binary_crossentropy', metrics = ['accuracy'])\n\nclassifier.fit(X_train, y_train, batch_size = 8, epochs = 100)",
   "metadata": {
    "execution": {
     "iopub.status.busy": "2024-07-23T15:23:48.217168Z",
     "iopub.execute_input": "2024-07-23T15:23:48.217451Z",
     "iopub.status.idle": "2024-07-23T15:26:05.416742Z",
     "shell.execute_reply.started": "2024-07-23T15:23:48.217426Z",
     "shell.execute_reply": "2024-07-23T15:26:05.415764Z"
    },
    "trusted": true
   },
   "execution_count": 21,
   "outputs": [
    {
     "name": "stdout",
     "text": "Epoch 1/100\n\u001B[1m 91/800\u001B[0m \u001B[32m━━\u001B[0m\u001B[37m━━━━━━━━━━━━━━━━━━\u001B[0m \u001B[1m1s\u001B[0m 2ms/step - accuracy: 0.8695 - loss: 0.6811",
     "output_type": "stream"
    },
    {
     "name": "stderr",
     "text": "W0000 00:00:1721748230.040023     105 graph_launch.cc:671] Fallback to op-by-op mode because memset node breaks graph update\n",
     "output_type": "stream"
    },
    {
     "name": "stdout",
     "text": "\u001B[1m800/800\u001B[0m \u001B[32m━━━━━━━━━━━━━━━━━━━━\u001B[0m\u001B[37m\u001B[0m \u001B[1m4s\u001B[0m 2ms/step - accuracy: 0.8817 - loss: 0.4521\nEpoch 2/100\n\u001B[1m800/800\u001B[0m \u001B[32m━━━━━━━━━━━━━━━━━━━━\u001B[0m\u001B[37m\u001B[0m \u001B[1m1s\u001B[0m 2ms/step - accuracy: 0.8875 - loss: 0.2354\nEpoch 3/100\n\u001B[1m800/800\u001B[0m \u001B[32m━━━━━━━━━━━━━━━━━━━━\u001B[0m\u001B[37m\u001B[0m \u001B[1m1s\u001B[0m 2ms/step - accuracy: 0.9182 - loss: 0.2198\nEpoch 4/100\n\u001B[1m800/800\u001B[0m \u001B[32m━━━━━━━━━━━━━━━━━━━━\u001B[0m\u001B[37m\u001B[0m \u001B[1m1s\u001B[0m 2ms/step - accuracy: 0.9208 - loss: 0.2180\nEpoch 5/100\n\u001B[1m800/800\u001B[0m \u001B[32m━━━━━━━━━━━━━━━━━━━━\u001B[0m\u001B[37m\u001B[0m \u001B[1m1s\u001B[0m 2ms/step - accuracy: 0.9185 - loss: 0.2170\nEpoch 6/100\n\u001B[1m800/800\u001B[0m \u001B[32m━━━━━━━━━━━━━━━━━━━━\u001B[0m\u001B[37m\u001B[0m \u001B[1m1s\u001B[0m 2ms/step - accuracy: 0.9301 - loss: 0.1894\nEpoch 7/100\n\u001B[1m800/800\u001B[0m \u001B[32m━━━━━━━━━━━━━━━━━━━━\u001B[0m\u001B[37m\u001B[0m \u001B[1m1s\u001B[0m 2ms/step - accuracy: 0.9219 - loss: 0.2038\nEpoch 8/100\n\u001B[1m800/800\u001B[0m \u001B[32m━━━━━━━━━━━━━━━━━━━━\u001B[0m\u001B[37m\u001B[0m \u001B[1m1s\u001B[0m 2ms/step - accuracy: 0.9319 - loss: 0.1801\nEpoch 9/100\n\u001B[1m800/800\u001B[0m \u001B[32m━━━━━━━━━━━━━━━━━━━━\u001B[0m\u001B[37m\u001B[0m \u001B[1m1s\u001B[0m 2ms/step - accuracy: 0.9396 - loss: 0.1764\nEpoch 10/100\n\u001B[1m800/800\u001B[0m \u001B[32m━━━━━━━━━━━━━━━━━━━━\u001B[0m\u001B[37m\u001B[0m \u001B[1m1s\u001B[0m 2ms/step - accuracy: 0.9362 - loss: 0.1751\nEpoch 11/100\n\u001B[1m800/800\u001B[0m \u001B[32m━━━━━━━━━━━━━━━━━━━━\u001B[0m\u001B[37m\u001B[0m \u001B[1m1s\u001B[0m 2ms/step - accuracy: 0.9419 - loss: 0.1596\nEpoch 12/100\n\u001B[1m800/800\u001B[0m \u001B[32m━━━━━━━━━━━━━━━━━━━━\u001B[0m\u001B[37m\u001B[0m \u001B[1m1s\u001B[0m 2ms/step - accuracy: 0.9427 - loss: 0.1633\nEpoch 13/100\n\u001B[1m800/800\u001B[0m \u001B[32m━━━━━━━━━━━━━━━━━━━━\u001B[0m\u001B[37m\u001B[0m \u001B[1m1s\u001B[0m 2ms/step - accuracy: 0.9470 - loss: 0.1518\nEpoch 14/100\n\u001B[1m800/800\u001B[0m \u001B[32m━━━━━━━━━━━━━━━━━━━━\u001B[0m\u001B[37m\u001B[0m \u001B[1m1s\u001B[0m 2ms/step - accuracy: 0.9488 - loss: 0.1494\nEpoch 15/100\n\u001B[1m800/800\u001B[0m \u001B[32m━━━━━━━━━━━━━━━━━━━━\u001B[0m\u001B[37m\u001B[0m \u001B[1m2s\u001B[0m 2ms/step - accuracy: 0.9447 - loss: 0.1524\nEpoch 16/100\n\u001B[1m800/800\u001B[0m \u001B[32m━━━━━━━━━━━━━━━━━━━━\u001B[0m\u001B[37m\u001B[0m \u001B[1m1s\u001B[0m 2ms/step - accuracy: 0.9415 - loss: 0.1605\nEpoch 17/100\n\u001B[1m800/800\u001B[0m \u001B[32m━━━━━━━━━━━━━━━━━━━━\u001B[0m\u001B[37m\u001B[0m \u001B[1m1s\u001B[0m 2ms/step - accuracy: 0.9430 - loss: 0.1541\nEpoch 18/100\n\u001B[1m800/800\u001B[0m \u001B[32m━━━━━━━━━━━━━━━━━━━━\u001B[0m\u001B[37m\u001B[0m \u001B[1m1s\u001B[0m 2ms/step - accuracy: 0.9523 - loss: 0.1472\nEpoch 19/100\n\u001B[1m800/800\u001B[0m \u001B[32m━━━━━━━━━━━━━━━━━━━━\u001B[0m\u001B[37m\u001B[0m \u001B[1m1s\u001B[0m 2ms/step - accuracy: 0.9477 - loss: 0.1521\nEpoch 20/100\n\u001B[1m800/800\u001B[0m \u001B[32m━━━━━━━━━━━━━━━━━━━━\u001B[0m\u001B[37m\u001B[0m \u001B[1m1s\u001B[0m 2ms/step - accuracy: 0.9528 - loss: 0.1461\nEpoch 21/100\n\u001B[1m800/800\u001B[0m \u001B[32m━━━━━━━━━━━━━━━━━━━━\u001B[0m\u001B[37m\u001B[0m \u001B[1m1s\u001B[0m 2ms/step - accuracy: 0.9479 - loss: 0.1444\nEpoch 22/100\n\u001B[1m800/800\u001B[0m \u001B[32m━━━━━━━━━━━━━━━━━━━━\u001B[0m\u001B[37m\u001B[0m \u001B[1m1s\u001B[0m 2ms/step - accuracy: 0.9501 - loss: 0.1423\nEpoch 23/100\n\u001B[1m800/800\u001B[0m \u001B[32m━━━━━━━━━━━━━━━━━━━━\u001B[0m\u001B[37m\u001B[0m \u001B[1m1s\u001B[0m 2ms/step - accuracy: 0.9501 - loss: 0.1445\nEpoch 24/100\n\u001B[1m800/800\u001B[0m \u001B[32m━━━━━━━━━━━━━━━━━━━━\u001B[0m\u001B[37m\u001B[0m \u001B[1m1s\u001B[0m 2ms/step - accuracy: 0.9514 - loss: 0.1385\nEpoch 25/100\n\u001B[1m800/800\u001B[0m \u001B[32m━━━━━━━━━━━━━━━━━━━━\u001B[0m\u001B[37m\u001B[0m \u001B[1m1s\u001B[0m 2ms/step - accuracy: 0.9487 - loss: 0.1371\nEpoch 26/100\n\u001B[1m800/800\u001B[0m \u001B[32m━━━━━━━━━━━━━━━━━━━━\u001B[0m\u001B[37m\u001B[0m \u001B[1m1s\u001B[0m 2ms/step - accuracy: 0.9503 - loss: 0.1420\nEpoch 27/100\n\u001B[1m800/800\u001B[0m \u001B[32m━━━━━━━━━━━━━━━━━━━━\u001B[0m\u001B[37m\u001B[0m \u001B[1m1s\u001B[0m 2ms/step - accuracy: 0.9431 - loss: 0.1515\nEpoch 28/100\n\u001B[1m800/800\u001B[0m \u001B[32m━━━━━━━━━━━━━━━━━━━━\u001B[0m\u001B[37m\u001B[0m \u001B[1m2s\u001B[0m 2ms/step - accuracy: 0.9469 - loss: 0.1440\nEpoch 29/100\n\u001B[1m800/800\u001B[0m \u001B[32m━━━━━━━━━━━━━━━━━━━━\u001B[0m\u001B[37m\u001B[0m \u001B[1m1s\u001B[0m 2ms/step - accuracy: 0.9500 - loss: 0.1443\nEpoch 30/100\n\u001B[1m800/800\u001B[0m \u001B[32m━━━━━━━━━━━━━━━━━━━━\u001B[0m\u001B[37m\u001B[0m \u001B[1m1s\u001B[0m 2ms/step - accuracy: 0.9525 - loss: 0.1357\nEpoch 31/100\n\u001B[1m800/800\u001B[0m \u001B[32m━━━━━━━━━━━━━━━━━━━━\u001B[0m\u001B[37m\u001B[0m \u001B[1m1s\u001B[0m 2ms/step - accuracy: 0.9522 - loss: 0.1414\nEpoch 32/100\n\u001B[1m800/800\u001B[0m \u001B[32m━━━━━━━━━━━━━━━━━━━━\u001B[0m\u001B[37m\u001B[0m \u001B[1m1s\u001B[0m 2ms/step - accuracy: 0.9506 - loss: 0.1385\nEpoch 33/100\n\u001B[1m800/800\u001B[0m \u001B[32m━━━━━━━━━━━━━━━━━━━━\u001B[0m\u001B[37m\u001B[0m \u001B[1m1s\u001B[0m 2ms/step - accuracy: 0.9490 - loss: 0.1447\nEpoch 34/100\n\u001B[1m800/800\u001B[0m \u001B[32m━━━━━━━━━━━━━━━━━━━━\u001B[0m\u001B[37m\u001B[0m \u001B[1m1s\u001B[0m 2ms/step - accuracy: 0.9533 - loss: 0.1370\nEpoch 35/100\n\u001B[1m800/800\u001B[0m \u001B[32m━━━━━━━━━━━━━━━━━━━━\u001B[0m\u001B[37m\u001B[0m \u001B[1m1s\u001B[0m 2ms/step - accuracy: 0.9514 - loss: 0.1348\nEpoch 36/100\n\u001B[1m800/800\u001B[0m \u001B[32m━━━━━━━━━━━━━━━━━━━━\u001B[0m\u001B[37m\u001B[0m \u001B[1m1s\u001B[0m 2ms/step - accuracy: 0.9521 - loss: 0.1440\nEpoch 37/100\n\u001B[1m800/800\u001B[0m \u001B[32m━━━━━━━━━━━━━━━━━━━━\u001B[0m\u001B[37m\u001B[0m \u001B[1m1s\u001B[0m 2ms/step - accuracy: 0.9525 - loss: 0.1352\nEpoch 38/100\n\u001B[1m800/800\u001B[0m \u001B[32m━━━━━━━━━━━━━━━━━━━━\u001B[0m\u001B[37m\u001B[0m \u001B[1m1s\u001B[0m 2ms/step - accuracy: 0.9560 - loss: 0.1302\nEpoch 39/100\n\u001B[1m800/800\u001B[0m \u001B[32m━━━━━━━━━━━━━━━━━━━━\u001B[0m\u001B[37m\u001B[0m \u001B[1m1s\u001B[0m 2ms/step - accuracy: 0.9531 - loss: 0.1347\nEpoch 40/100\n\u001B[1m800/800\u001B[0m \u001B[32m━━━━━━━━━━━━━━━━━━━━\u001B[0m\u001B[37m\u001B[0m \u001B[1m1s\u001B[0m 2ms/step - accuracy: 0.9533 - loss: 0.1338\nEpoch 41/100\n\u001B[1m800/800\u001B[0m \u001B[32m━━━━━━━━━━━━━━━━━━━━\u001B[0m\u001B[37m\u001B[0m \u001B[1m1s\u001B[0m 2ms/step - accuracy: 0.9538 - loss: 0.1287\nEpoch 42/100\n\u001B[1m800/800\u001B[0m \u001B[32m━━━━━━━━━━━━━━━━━━━━\u001B[0m\u001B[37m\u001B[0m \u001B[1m1s\u001B[0m 2ms/step - accuracy: 0.9503 - loss: 0.1390\nEpoch 43/100\n\u001B[1m800/800\u001B[0m \u001B[32m━━━━━━━━━━━━━━━━━━━━\u001B[0m\u001B[37m\u001B[0m \u001B[1m1s\u001B[0m 2ms/step - accuracy: 0.9482 - loss: 0.1432\nEpoch 44/100\n\u001B[1m800/800\u001B[0m \u001B[32m━━━━━━━━━━━━━━━━━━━━\u001B[0m\u001B[37m\u001B[0m \u001B[1m1s\u001B[0m 2ms/step - accuracy: 0.9566 - loss: 0.1291\nEpoch 45/100\n\u001B[1m800/800\u001B[0m \u001B[32m━━━━━━━━━━━━━━━━━━━━\u001B[0m\u001B[37m\u001B[0m \u001B[1m1s\u001B[0m 2ms/step - accuracy: 0.9558 - loss: 0.1317\nEpoch 46/100\n\u001B[1m800/800\u001B[0m \u001B[32m━━━━━━━━━━━━━━━━━━━━\u001B[0m\u001B[37m\u001B[0m \u001B[1m1s\u001B[0m 2ms/step - accuracy: 0.9540 - loss: 0.1308\nEpoch 47/100\n\u001B[1m800/800\u001B[0m \u001B[32m━━━━━━━━━━━━━━━━━━━━\u001B[0m\u001B[37m\u001B[0m \u001B[1m1s\u001B[0m 2ms/step - accuracy: 0.9534 - loss: 0.1397\nEpoch 48/100\n\u001B[1m800/800\u001B[0m \u001B[32m━━━━━━━━━━━━━━━━━━━━\u001B[0m\u001B[37m\u001B[0m \u001B[1m1s\u001B[0m 2ms/step - accuracy: 0.9560 - loss: 0.1379\nEpoch 49/100\n\u001B[1m800/800\u001B[0m \u001B[32m━━━━━━━━━━━━━━━━━━━━\u001B[0m\u001B[37m\u001B[0m \u001B[1m1s\u001B[0m 2ms/step - accuracy: 0.9575 - loss: 0.1270\nEpoch 50/100\n\u001B[1m800/800\u001B[0m \u001B[32m━━━━━━━━━━━━━━━━━━━━\u001B[0m\u001B[37m\u001B[0m \u001B[1m1s\u001B[0m 2ms/step - accuracy: 0.9538 - loss: 0.1377\nEpoch 51/100\n\u001B[1m800/800\u001B[0m \u001B[32m━━━━━━━━━━━━━━━━━━━━\u001B[0m\u001B[37m\u001B[0m \u001B[1m1s\u001B[0m 2ms/step - accuracy: 0.9568 - loss: 0.1334\nEpoch 52/100\n\u001B[1m800/800\u001B[0m \u001B[32m━━━━━━━━━━━━━━━━━━━━\u001B[0m\u001B[37m\u001B[0m \u001B[1m1s\u001B[0m 2ms/step - accuracy: 0.9560 - loss: 0.1311\nEpoch 53/100\n\u001B[1m800/800\u001B[0m \u001B[32m━━━━━━━━━━━━━━━━━━━━\u001B[0m\u001B[37m\u001B[0m \u001B[1m1s\u001B[0m 2ms/step - accuracy: 0.9575 - loss: 0.1269\nEpoch 54/100\n\u001B[1m800/800\u001B[0m \u001B[32m━━━━━━━━━━━━━━━━━━━━\u001B[0m\u001B[37m\u001B[0m \u001B[1m1s\u001B[0m 2ms/step - accuracy: 0.9513 - loss: 0.1382\nEpoch 55/100\n\u001B[1m800/800\u001B[0m \u001B[32m━━━━━━━━━━━━━━━━━━━━\u001B[0m\u001B[37m\u001B[0m \u001B[1m1s\u001B[0m 2ms/step - accuracy: 0.9560 - loss: 0.1319\nEpoch 56/100\n\u001B[1m800/800\u001B[0m \u001B[32m━━━━━━━━━━━━━━━━━━━━\u001B[0m\u001B[37m\u001B[0m \u001B[1m1s\u001B[0m 2ms/step - accuracy: 0.9578 - loss: 0.1296\nEpoch 57/100\n\u001B[1m800/800\u001B[0m \u001B[32m━━━━━━━━━━━━━━━━━━━━\u001B[0m\u001B[37m\u001B[0m \u001B[1m1s\u001B[0m 2ms/step - accuracy: 0.9579 - loss: 0.1272\nEpoch 58/100\n\u001B[1m800/800\u001B[0m \u001B[32m━━━━━━━━━━━━━━━━━━━━\u001B[0m\u001B[37m\u001B[0m \u001B[1m1s\u001B[0m 2ms/step - accuracy: 0.9576 - loss: 0.1261\nEpoch 59/100\n\u001B[1m800/800\u001B[0m \u001B[32m━━━━━━━━━━━━━━━━━━━━\u001B[0m\u001B[37m\u001B[0m \u001B[1m1s\u001B[0m 2ms/step - accuracy: 0.9544 - loss: 0.1339\nEpoch 60/100\n\u001B[1m800/800\u001B[0m \u001B[32m━━━━━━━━━━━━━━━━━━━━\u001B[0m\u001B[37m\u001B[0m \u001B[1m1s\u001B[0m 2ms/step - accuracy: 0.9561 - loss: 0.1306\nEpoch 61/100\n\u001B[1m800/800\u001B[0m \u001B[32m━━━━━━━━━━━━━━━━━━━━\u001B[0m\u001B[37m\u001B[0m \u001B[1m1s\u001B[0m 2ms/step - accuracy: 0.9511 - loss: 0.1444\nEpoch 62/100\n\u001B[1m800/800\u001B[0m \u001B[32m━━━━━━━━━━━━━━━━━━━━\u001B[0m\u001B[37m\u001B[0m \u001B[1m1s\u001B[0m 2ms/step - accuracy: 0.9555 - loss: 0.1344\nEpoch 63/100\n\u001B[1m800/800\u001B[0m \u001B[32m━━━━━━━━━━━━━━━━━━━━\u001B[0m\u001B[37m\u001B[0m \u001B[1m1s\u001B[0m 2ms/step - accuracy: 0.9562 - loss: 0.1369\nEpoch 64/100\n\u001B[1m800/800\u001B[0m \u001B[32m━━━━━━━━━━━━━━━━━━━━\u001B[0m\u001B[37m\u001B[0m \u001B[1m1s\u001B[0m 2ms/step - accuracy: 0.9586 - loss: 0.1286\nEpoch 65/100\n\u001B[1m800/800\u001B[0m \u001B[32m━━━━━━━━━━━━━━━━━━━━\u001B[0m\u001B[37m\u001B[0m \u001B[1m1s\u001B[0m 2ms/step - accuracy: 0.9561 - loss: 0.1337\nEpoch 66/100\n\u001B[1m800/800\u001B[0m \u001B[32m━━━━━━━━━━━━━━━━━━━━\u001B[0m\u001B[37m\u001B[0m \u001B[1m1s\u001B[0m 2ms/step - accuracy: 0.9576 - loss: 0.1270\nEpoch 67/100\n\u001B[1m800/800\u001B[0m \u001B[32m━━━━━━━━━━━━━━━━━━━━\u001B[0m\u001B[37m\u001B[0m \u001B[1m1s\u001B[0m 2ms/step - accuracy: 0.9570 - loss: 0.1322\nEpoch 68/100\n\u001B[1m800/800\u001B[0m \u001B[32m━━━━━━━━━━━━━━━━━━━━\u001B[0m\u001B[37m\u001B[0m \u001B[1m1s\u001B[0m 2ms/step - accuracy: 0.9549 - loss: 0.1281\nEpoch 69/100\n\u001B[1m800/800\u001B[0m \u001B[32m━━━━━━━━━━━━━━━━━━━━\u001B[0m\u001B[37m\u001B[0m \u001B[1m1s\u001B[0m 2ms/step - accuracy: 0.9522 - loss: 0.1389\nEpoch 70/100\n\u001B[1m800/800\u001B[0m \u001B[32m━━━━━━━━━━━━━━━━━━━━\u001B[0m\u001B[37m\u001B[0m \u001B[1m1s\u001B[0m 2ms/step - accuracy: 0.9558 - loss: 0.1361\nEpoch 71/100\n\u001B[1m800/800\u001B[0m \u001B[32m━━━━━━━━━━━━━━━━━━━━\u001B[0m\u001B[37m\u001B[0m \u001B[1m1s\u001B[0m 2ms/step - accuracy: 0.9502 - loss: 0.1432\nEpoch 72/100\n\u001B[1m800/800\u001B[0m \u001B[32m━━━━━━━━━━━━━━━━━━━━\u001B[0m\u001B[37m\u001B[0m \u001B[1m1s\u001B[0m 2ms/step - accuracy: 0.9530 - loss: 0.1423\nEpoch 73/100\n\u001B[1m800/800\u001B[0m \u001B[32m━━━━━━━━━━━━━━━━━━━━\u001B[0m\u001B[37m\u001B[0m \u001B[1m3s\u001B[0m 2ms/step - accuracy: 0.9575 - loss: 0.1324\nEpoch 74/100\n\u001B[1m800/800\u001B[0m \u001B[32m━━━━━━━━━━━━━━━━━━━━\u001B[0m\u001B[37m\u001B[0m \u001B[1m1s\u001B[0m 2ms/step - accuracy: 0.9531 - loss: 0.1339\nEpoch 75/100\n\u001B[1m800/800\u001B[0m \u001B[32m━━━━━━━━━━━━━━━━━━━━\u001B[0m\u001B[37m\u001B[0m \u001B[1m1s\u001B[0m 2ms/step - accuracy: 0.9537 - loss: 0.1347\nEpoch 76/100\n\u001B[1m800/800\u001B[0m \u001B[32m━━━━━━━━━━━━━━━━━━━━\u001B[0m\u001B[37m\u001B[0m \u001B[1m1s\u001B[0m 2ms/step - accuracy: 0.9576 - loss: 0.1243\nEpoch 77/100\n\u001B[1m800/800\u001B[0m \u001B[32m━━━━━━━━━━━━━━━━━━━━\u001B[0m\u001B[37m\u001B[0m \u001B[1m1s\u001B[0m 2ms/step - accuracy: 0.9592 - loss: 0.1197\nEpoch 78/100\n\u001B[1m800/800\u001B[0m \u001B[32m━━━━━━━━━━━━━━━━━━━━\u001B[0m\u001B[37m\u001B[0m \u001B[1m1s\u001B[0m 2ms/step - accuracy: 0.9605 - loss: 0.1195\nEpoch 79/100\n\u001B[1m800/800\u001B[0m \u001B[32m━━━━━━━━━━━━━━━━━━━━\u001B[0m\u001B[37m\u001B[0m \u001B[1m1s\u001B[0m 2ms/step - accuracy: 0.9514 - loss: 0.1396\nEpoch 80/100\n\u001B[1m800/800\u001B[0m \u001B[32m━━━━━━━━━━━━━━━━━━━━\u001B[0m\u001B[37m\u001B[0m \u001B[1m1s\u001B[0m 2ms/step - accuracy: 0.9539 - loss: 0.1266\nEpoch 81/100\n\u001B[1m800/800\u001B[0m \u001B[32m━━━━━━━━━━━━━━━━━━━━\u001B[0m\u001B[37m\u001B[0m \u001B[1m1s\u001B[0m 2ms/step - accuracy: 0.9619 - loss: 0.1188\nEpoch 82/100\n\u001B[1m800/800\u001B[0m \u001B[32m━━━━━━━━━━━━━━━━━━━━\u001B[0m\u001B[37m\u001B[0m \u001B[1m1s\u001B[0m 2ms/step - accuracy: 0.9602 - loss: 0.1234\nEpoch 83/100\n\u001B[1m800/800\u001B[0m \u001B[32m━━━━━━━━━━━━━━━━━━━━\u001B[0m\u001B[37m\u001B[0m \u001B[1m1s\u001B[0m 2ms/step - accuracy: 0.9554 - loss: 0.1339\nEpoch 84/100\n\u001B[1m800/800\u001B[0m \u001B[32m━━━━━━━━━━━━━━━━━━━━\u001B[0m\u001B[37m\u001B[0m \u001B[1m1s\u001B[0m 2ms/step - accuracy: 0.9562 - loss: 0.1319\nEpoch 85/100\n\u001B[1m800/800\u001B[0m \u001B[32m━━━━━━━━━━━━━━━━━━━━\u001B[0m\u001B[37m\u001B[0m \u001B[1m1s\u001B[0m 2ms/step - accuracy: 0.9594 - loss: 0.1243\nEpoch 86/100\n\u001B[1m800/800\u001B[0m \u001B[32m━━━━━━━━━━━━━━━━━━━━\u001B[0m\u001B[37m\u001B[0m \u001B[1m1s\u001B[0m 2ms/step - accuracy: 0.9594 - loss: 0.1217\nEpoch 87/100\n\u001B[1m800/800\u001B[0m \u001B[32m━━━━━━━━━━━━━━━━━━━━\u001B[0m\u001B[37m\u001B[0m \u001B[1m1s\u001B[0m 2ms/step - accuracy: 0.9626 - loss: 0.1149\nEpoch 88/100\n\u001B[1m800/800\u001B[0m \u001B[32m━━━━━━━━━━━━━━━━━━━━\u001B[0m\u001B[37m\u001B[0m \u001B[1m1s\u001B[0m 2ms/step - accuracy: 0.9600 - loss: 0.1267\nEpoch 89/100\n\u001B[1m800/800\u001B[0m \u001B[32m━━━━━━━━━━━━━━━━━━━━\u001B[0m\u001B[37m\u001B[0m \u001B[1m1s\u001B[0m 2ms/step - accuracy: 0.9548 - loss: 0.1251\nEpoch 90/100\n\u001B[1m800/800\u001B[0m \u001B[32m━━━━━━━━━━━━━━━━━━━━\u001B[0m\u001B[37m\u001B[0m \u001B[1m1s\u001B[0m 2ms/step - accuracy: 0.9546 - loss: 0.1269\nEpoch 91/100\n\u001B[1m800/800\u001B[0m \u001B[32m━━━━━━━━━━━━━━━━━━━━\u001B[0m\u001B[37m\u001B[0m \u001B[1m1s\u001B[0m 2ms/step - accuracy: 0.9590 - loss: 0.1245\nEpoch 92/100\n\u001B[1m800/800\u001B[0m \u001B[32m━━━━━━━━━━━━━━━━━━━━\u001B[0m\u001B[37m\u001B[0m \u001B[1m1s\u001B[0m 2ms/step - accuracy: 0.9599 - loss: 0.1162\nEpoch 93/100\n\u001B[1m800/800\u001B[0m \u001B[32m━━━━━━━━━━━━━━━━━━━━\u001B[0m\u001B[37m\u001B[0m \u001B[1m1s\u001B[0m 2ms/step - accuracy: 0.9616 - loss: 0.1133\nEpoch 94/100\n\u001B[1m800/800\u001B[0m \u001B[32m━━━━━━━━━━━━━━━━━━━━\u001B[0m\u001B[37m\u001B[0m \u001B[1m1s\u001B[0m 2ms/step - accuracy: 0.9561 - loss: 0.1264\nEpoch 95/100\n\u001B[1m800/800\u001B[0m \u001B[32m━━━━━━━━━━━━━━━━━━━━\u001B[0m\u001B[37m\u001B[0m \u001B[1m1s\u001B[0m 2ms/step - accuracy: 0.9573 - loss: 0.1223\nEpoch 96/100\n\u001B[1m800/800\u001B[0m \u001B[32m━━━━━━━━━━━━━━━━━━━━\u001B[0m\u001B[37m\u001B[0m \u001B[1m1s\u001B[0m 2ms/step - accuracy: 0.9552 - loss: 0.1330\nEpoch 97/100\n\u001B[1m800/800\u001B[0m \u001B[32m━━━━━━━━━━━━━━━━━━━━\u001B[0m\u001B[37m\u001B[0m \u001B[1m1s\u001B[0m 2ms/step - accuracy: 0.9572 - loss: 0.1314\nEpoch 98/100\n\u001B[1m800/800\u001B[0m \u001B[32m━━━━━━━━━━━━━━━━━━━━\u001B[0m\u001B[37m\u001B[0m \u001B[1m1s\u001B[0m 2ms/step - accuracy: 0.9570 - loss: 0.1233\nEpoch 99/100\n\u001B[1m800/800\u001B[0m \u001B[32m━━━━━━━━━━━━━━━━━━━━\u001B[0m\u001B[37m\u001B[0m \u001B[1m1s\u001B[0m 2ms/step - accuracy: 0.9548 - loss: 0.1359\nEpoch 100/100\n\u001B[1m800/800\u001B[0m \u001B[32m━━━━━━━━━━━━━━━━━━━━\u001B[0m\u001B[37m\u001B[0m \u001B[1m1s\u001B[0m 2ms/step - accuracy: 0.9555 - loss: 0.1313\n",
     "output_type": "stream"
    },
    {
     "execution_count": 21,
     "output_type": "execute_result",
     "data": {
      "text/plain": "<keras.src.callbacks.history.History at 0x7d3210261db0>"
     },
     "metadata": {}
    }
   ]
  },
  {
   "cell_type": "markdown",
   "source": "## **Saving Model**",
   "metadata": {}
  },
  {
   "cell_type": "code",
   "source": "classifier.save('water_quality_model.h5')",
   "metadata": {
    "execution": {
     "iopub.status.busy": "2024-07-23T15:26:05.417941Z",
     "iopub.execute_input": "2024-07-23T15:26:05.418252Z",
     "iopub.status.idle": "2024-07-23T15:26:05.443906Z",
     "shell.execute_reply.started": "2024-07-23T15:26:05.418227Z",
     "shell.execute_reply": "2024-07-23T15:26:05.443244Z"
    },
    "trusted": true
   },
   "execution_count": 22,
   "outputs": []
  },
  {
   "cell_type": "markdown",
   "source": "## **Predicting On Test Data**",
   "metadata": {}
  },
  {
   "cell_type": "code",
   "source": "y_pred = classifier.predict(X_test)\n\ny_new_pred = []\n\nfor prediction in y_pred:\n    if prediction > 0.5:\n        y_new_pred.append(1)\n    else:\n        y_new_pred.append(0)",
   "metadata": {
    "execution": {
     "iopub.status.busy": "2024-07-23T15:26:05.444876Z",
     "iopub.execute_input": "2024-07-23T15:26:05.445178Z",
     "iopub.status.idle": "2024-07-23T15:26:05.710473Z",
     "shell.execute_reply.started": "2024-07-23T15:26:05.445154Z",
     "shell.execute_reply": "2024-07-23T15:26:05.709654Z"
    },
    "trusted": true
   },
   "execution_count": 23,
   "outputs": [
    {
     "name": "stdout",
     "text": "\u001B[1m50/50\u001B[0m \u001B[32m━━━━━━━━━━━━━━━━━━━━\u001B[0m\u001B[37m\u001B[0m \u001B[1m0s\u001B[0m 1ms/step\n",
     "output_type": "stream"
    }
   ]
  },
  {
   "cell_type": "markdown",
   "source": "## **Accuracy on Test Data**",
   "metadata": {}
  },
  {
   "cell_type": "code",
   "source": "from sklearn.metrics import accuracy_score\nprint(accuracy_score(y_test,y_new_pred))",
   "metadata": {
    "execution": {
     "iopub.status.busy": "2024-07-23T15:26:05.711790Z",
     "iopub.execute_input": "2024-07-23T15:26:05.712282Z",
     "iopub.status.idle": "2024-07-23T15:26:05.719382Z",
     "shell.execute_reply.started": "2024-07-23T15:26:05.712245Z",
     "shell.execute_reply": "2024-07-23T15:26:05.718532Z"
    },
    "trusted": true
   },
   "execution_count": 24,
   "outputs": [
    {
     "name": "stdout",
     "text": "0.941875\n",
     "output_type": "stream"
    }
   ]
  },
  {
   "cell_type": "markdown",
   "source": "## **Confusion Matrix**",
   "metadata": {}
  },
  {
   "cell_type": "code",
   "source": "from sklearn.metrics import confusion_matrix\nimport seaborn as sns\ncm = confusion_matrix(y_test, y_new_pred)\nsns.heatmap(cm, annot=True,fmt=\"d\")",
   "metadata": {
    "execution": {
     "iopub.status.busy": "2024-07-23T15:26:05.720598Z",
     "iopub.execute_input": "2024-07-23T15:26:05.721171Z",
     "iopub.status.idle": "2024-07-23T15:26:06.015042Z",
     "shell.execute_reply.started": "2024-07-23T15:26:05.721134Z",
     "shell.execute_reply": "2024-07-23T15:26:06.014117Z"
    },
    "trusted": true
   },
   "execution_count": 25,
   "outputs": [
    {
     "execution_count": 25,
     "output_type": "execute_result",
     "data": {
      "text/plain": "<Axes: >"
     },
     "metadata": {}
    },
    {
     "output_type": "display_data",
     "data": {
      "text/plain": "<Figure size 640x480 with 2 Axes>",
      "image/png": "[encoded data removed]"
     },
     "metadata": {}
    }
   ]
  },
  {
   "cell_type": "code",
   "source": "import numpy as np\ninput_data = (1.65,9.08,0.04,2.85,0.007,0.35,0.83,0.17,0.05,0.2,0,0.054,16.08,1.13,0.007,37.75,6.78,0.08,0.34,0.02)\n\n\ninput_data_as_numpy_array = np.asarray(input_data)\n\ninput_data_reshaped = input_data_as_numpy_array.reshape(1,-1)\n\nstd_data = sc.transform(input_data_reshaped)\nprint(std_data)\n\nprediction = classifier.predict(std_data)\nprint(prediction)",
   "metadata": {
    "execution": {
     "iopub.status.busy": "2024-07-23T15:26:06.016210Z",
     "iopub.execute_input": "2024-07-23T15:26:06.016485Z",
     "iopub.status.idle": "2024-07-23T15:26:06.226593Z",
     "shell.execute_reply.started": "2024-07-23T15:26:06.016463Z",
     "shell.execute_reply": "2024-07-23T15:26:06.225595Z"
    },
    "trusted": true
   },
   "execution_count": 26,
   "outputs": [
    {
     "name": "stdout",
     "text": "[[ 0.77153257 -0.58113663 -0.48280573  1.06736394 -0.99969106 -0.71092214\n   2.14665706 -0.96783586 -1.65738189 -0.35625958 -0.87167087 -0.7970598\n   1.12924229 -0.35154914  0.60699688  1.21352215  1.66647765  1.0447767\n   1.36035624 -0.9164065 ]]\n\u001B[1m1/1\u001B[0m \u001B[32m━━━━━━━━━━━━━━━━━━━━\u001B[0m\u001B[37m\u001B[0m \u001B[1m0s\u001B[0m 157ms/step\n[[0.8405342]]\n",
     "output_type": "stream"
    }
   ]
  },
  {
   "cell_type": "code",
   "source": "if prediction > 0.5:\n    print('Water is safe')\nelse:\n    print('Water is not safe')",
   "metadata": {
    "execution": {
     "iopub.status.busy": "2024-07-23T15:26:06.227804Z",
     "iopub.execute_input": "2024-07-23T15:26:06.228171Z",
     "iopub.status.idle": "2024-07-23T15:26:06.233844Z",
     "shell.execute_reply.started": "2024-07-23T15:26:06.228143Z",
     "shell.execute_reply": "2024-07-23T15:26:06.232760Z"
    },
    "trusted": true
   },
   "execution_count": 27,
   "outputs": [
    {
     "name": "stdout",
     "text": "Water is safe\n",
     "output_type": "stream"
    }
   ]
  },
  {
   "cell_type": "code",
   "source": [
    "import joblib\n",
    "from sklearn.preprocessing import StandardScaler\n",
    "\n",
    "joblib.dump(sc, 'scaler.pkl')"
   ],
   "metadata": {
    "execution": {
     "iopub.status.busy": "2024-07-23T15:26:06.237457Z",
     "iopub.execute_input": "2024-07-23T15:26:06.238249Z",
     "iopub.status.idle": "2024-07-23T15:26:06.246561Z",
     "shell.execute_reply.started": "2024-07-23T15:26:06.238220Z",
     "shell.execute_reply": "2024-07-23T15:26:06.245469Z"
    },
    "trusted": true,
    "ExecuteTime": {
     "end_time": "2024-07-23T15:39:50.450591Z",
     "start_time": "2024-07-23T15:39:50.445283Z"
    }
   },
   "outputs": [
    {
     "data": {
      "text/plain": [
       "['scaler.pkl']"
      ]
     },
     "execution_count": 14,
     "metadata": {},
     "output_type": "execute_result"
    }
   ],
   "execution_count": 14
  },
  {
   "metadata": {},
   "cell_type": "code",
   "outputs": [],
   "execution_count": null,
   "source": ""
  }
 ]
}
